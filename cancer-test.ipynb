{
 "cells": [
  {
   "cell_type": "code",
   "execution_count": 2,
   "metadata": {},
   "outputs": [
    {
     "name": "stderr",
     "output_type": "stream",
     "text": [
      "2023-11-05 23:32:00.828128: I tensorflow/tsl/cuda/cudart_stub.cc:28] Could not find cuda drivers on your machine, GPU will not be used.\n",
      "2023-11-05 23:32:01.237644: E tensorflow/compiler/xla/stream_executor/cuda/cuda_dnn.cc:9342] Unable to register cuDNN factory: Attempting to register factory for plugin cuDNN when one has already been registered\n",
      "2023-11-05 23:32:01.237676: E tensorflow/compiler/xla/stream_executor/cuda/cuda_fft.cc:609] Unable to register cuFFT factory: Attempting to register factory for plugin cuFFT when one has already been registered\n",
      "2023-11-05 23:32:01.240337: E tensorflow/compiler/xla/stream_executor/cuda/cuda_blas.cc:1518] Unable to register cuBLAS factory: Attempting to register factory for plugin cuBLAS when one has already been registered\n",
      "2023-11-05 23:32:01.464951: I tensorflow/tsl/cuda/cudart_stub.cc:28] Could not find cuda drivers on your machine, GPU will not be used.\n",
      "2023-11-05 23:32:01.467477: I tensorflow/core/platform/cpu_feature_guard.cc:182] This TensorFlow binary is optimized to use available CPU instructions in performance-critical operations.\n",
      "To enable the following instructions: AVX2 FMA, in other operations, rebuild TensorFlow with the appropriate compiler flags.\n",
      "2023-11-05 23:32:02.829238: W tensorflow/compiler/tf2tensorrt/utils/py_utils.cc:38] TF-TRT Warning: Could not find TensorRT\n"
     ]
    }
   ],
   "source": [
    "import numpy as np\n",
    "import pandas as pd\n",
    "import matplotlib.pyplot as plt\n",
    "from PIL import Image\n",
    "from glob import glob\n",
    "\n",
    "from sklearn.model_selection import train_test_split\n",
    "from sklearn import metrics\n",
    "\n",
    "import cv2\n",
    "import gc\n",
    "import os\n",
    "\n",
    "import tensorflow as tf\n",
    "from tensorflow import keras\n",
    "from keras import layers\n",
    "\n",
    "import warnings\n",
    "warnings.filterwarnings('ignore')"
   ]
  },
  {
   "cell_type": "code",
   "execution_count": 3,
   "metadata": {},
   "outputs": [
    {
     "name": "stderr",
     "output_type": "stream",
     "text": [
      "2023-11-05 23:32:05.201463: I tensorflow/compiler/xla/stream_executor/cuda/cuda_gpu_executor.cc:894] successful NUMA node read from SysFS had negative value (-1), but there must be at least one NUMA node, so returning NUMA node zero. See more at https://github.com/torvalds/linux/blob/v6.0/Documentation/ABI/testing/sysfs-bus-pci#L344-L355\n",
      "2023-11-05 23:32:05.201968: W tensorflow/core/common_runtime/gpu/gpu_device.cc:2211] Cannot dlopen some GPU libraries. Please make sure the missing libraries mentioned above are installed properly if you would like to use GPU. Follow the guide at https://www.tensorflow.org/install/gpu for how to download and setup the required libraries for your platform.\n",
      "Skipping registering GPU devices...\n"
     ]
    }
   ],
   "source": [
    "model = keras.models.load_model(\"cancer.keras\")"
   ]
  },
  {
   "cell_type": "code",
   "execution_count": 5,
   "metadata": {},
   "outputs": [
    {
     "name": "stdout",
     "output_type": "stream",
     "text": [
      "(877, 512, 512, 3) (220, 512, 512, 3)\n",
      "7/7 [==============================] - 6s 775ms/step\n"
     ]
    }
   ],
   "source": [
    "data_path = \"lung-cancer-dataset/The-IQ-OTHNCCD-lung-cancer-dataset/The IQ-OTHNCCD lung cancer dataset\"\n",
    "\n",
    "classes = os.listdir(data_path)\n",
    "\n",
    "# Prep data for processing\n",
    "\n",
    "IMG_SIZE = 512      # 256 x 256 images\n",
    "SPLIT = 0.2\n",
    "EPOCHS = 10\n",
    "BATCH_SIZE = 32\n",
    "\n",
    "X = []\n",
    "Y = []\n",
    "\n",
    "for i, categ in enumerate(classes):\n",
    "    images = glob(f\"{data_path}/{categ}/*.jpg\")\n",
    "\n",
    "    for image in images:\n",
    "        img = cv2.imread(image)\n",
    "\n",
    "        X.append(cv2.resize(img, (IMG_SIZE, IMG_SIZE)))\n",
    "        Y.append(i)\n",
    "\n",
    "X = np.asarray(X)\n",
    "one_hot_encoded_Y = pd.get_dummies(Y).values\n",
    "\n",
    "X_train, X_val, Y_train, Y_val = train_test_split(X, one_hot_encoded_Y,\n",
    "                                                test_size = SPLIT,\n",
    "                                                random_state = 2023)\n",
    "\n",
    "print(X_train.shape, X_val.shape)\n",
    "\n",
    "Y_pred = model.predict(X_val)\n",
    "Y_val = np.argmax(Y_val, axis = 1)\n",
    "Y_pred = np.argmax(Y_pred, axis = 1)"
   ]
  },
  {
   "cell_type": "code",
   "execution_count": 6,
   "metadata": {},
   "outputs": [
    {
     "data": {
      "text/plain": [
       "array([[80,  0,  0],\n",
       "       [ 1, 29,  0],\n",
       "       [ 6,  6, 98]])"
      ]
     },
     "execution_count": 6,
     "metadata": {},
     "output_type": "execute_result"
    }
   ],
   "source": [
    "metrics.confusion_matrix(Y_val, Y_pred)"
   ]
  },
  {
   "cell_type": "code",
   "execution_count": 7,
   "metadata": {},
   "outputs": [
    {
     "name": "stdout",
     "output_type": "stream",
     "text": [
      "                 precision    recall  f1-score   support\n",
      "\n",
      "   Normal cases       0.92      1.00      0.96        80\n",
      "   Bengin cases       0.83      0.97      0.89        30\n",
      "Malignant cases       1.00      0.89      0.94       110\n",
      "\n",
      "       accuracy                           0.94       220\n",
      "      macro avg       0.92      0.95      0.93       220\n",
      "   weighted avg       0.95      0.94      0.94       220\n",
      "\n"
     ]
    }
   ],
   "source": [
    "print(metrics.classification_report(Y_val, Y_pred, target_names = classes))"
   ]
  }
 ],
 "metadata": {
  "kernelspec": {
   "display_name": "ml",
   "language": "python",
   "name": "python3"
  },
  "language_info": {
   "codemirror_mode": {
    "name": "ipython",
    "version": 3
   },
   "file_extension": ".py",
   "mimetype": "text/x-python",
   "name": "python",
   "nbconvert_exporter": "python",
   "pygments_lexer": "ipython3",
   "version": "3.11.5"
  }
 },
 "nbformat": 4,
 "nbformat_minor": 2
}
